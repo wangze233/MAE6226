{
 "cells": [
  {
   "cell_type": "code",
   "execution_count": 1,
   "metadata": {
    "collapsed": true
   },
   "outputs": [],
   "source": [
    "import numpy\n",
    "import math\n",
    "from matplotlib import pyplot\n",
    "%matplotlib inline"
   ]
  },
  {
   "cell_type": "code",
   "execution_count": 2,
   "metadata": {
    "collapsed": true
   },
   "outputs": [],
   "source": [
    "N=50\n",
    "x_start,x_end=-2,2\n",
    "y_start,y_end=-1,1\n",
    "x=numpy.linspace(x_start,x_end,N)\n",
    "y=numpy.linspace(y_start,y_end,N)\n",
    "X,Y=numpy.meshgrid(x,y)"
   ]
  },
  {
   "cell_type": "code",
   "execution_count": 11,
   "metadata": {
    "collapsed": false
   },
   "outputs": [],
   "source": [
    "class Source:\n",
    "    def __init__(self,strength,x,y):\n",
    "        self.strength=strength\n",
    "        self.x,self.y=x,y\n",
    "        \n",
    "    def velocity(self,X,Y):\n",
    "        self.u=self.strength/(2*math.pi)*(X-self.x)/((X-self.x)**2+(Y-self.y)**2)    \n",
    "        self.v=self.strength/(2*math.pi)*(Y-self.y)/((X-self.x)**2+(Y-self.y)**2)\n",
    "    \n",
    "    def stream_function(self,X,Y):\n",
    "        self.psi=self.strength/(2*math.pi)*numpy.arctan2((Y-self.y),(X-self.x))"
   ]
  },
  {
   "cell_type": "code",
   "execution_count": 12,
   "metadata": {
    "collapsed": false
   },
   "outputs": [],
   "source": [
    "strength_source=1\n",
    "x_source,y_source=0,0.5\n",
    "source=Source(strength_source,x_source,y_source)\n",
    "source.velocity(X,Y)\n",
    "source.stream_function(X,Y)"
   ]
  },
  {
   "cell_type": "code",
   "execution_count": null,
   "metadata": {
    "collapsed": true
   },
   "outputs": [],
   "source": []
  },
  {
   "cell_type": "code",
   "execution_count": null,
   "metadata": {
    "collapsed": true
   },
   "outputs": [],
   "source": []
  }
 ],
 "metadata": {
  "anaconda-cloud": {},
  "kernelspec": {
   "display_name": "Python [conda root]",
   "language": "python",
   "name": "conda-root-py"
  },
  "language_info": {
   "codemirror_mode": {
    "name": "ipython",
    "version": 3
   },
   "file_extension": ".py",
   "mimetype": "text/x-python",
   "name": "python",
   "nbconvert_exporter": "python",
   "pygments_lexer": "ipython3",
   "version": "3.5.2"
  }
 },
 "nbformat": 4,
 "nbformat_minor": 1
}
