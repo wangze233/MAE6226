{
 "cells": [
  {
   "cell_type": "code",
   "execution_count": 1,
   "metadata": {
    "collapsed": true
   },
   "outputs": [],
   "source": [
    "import math\n",
    "import numpy\n",
    "from matplotlib import pyplot\n",
    "# embed figures into the notebook\n",
    "%matplotlib inline"
   ]
  },
  {
   "cell_type": "code",
   "execution_count": 2,
   "metadata": {
    "collapsed": true
   },
   "outputs": [],
   "source": [
    "N = 100                              \n",
    "x_start, x_end = -5.0, 2.0           \n",
    "y_start, y_end = -3.0, 1.0           \n",
    "x = numpy.linspace(x_start, x_end, N)    \n",
    "y = numpy.linspace(y_start, y_end, N)    \n",
    "X, Y = numpy.meshgrid(x, y)  \n",
    "kappa = 6.0                       \n",
    "x_doublet, y_doublet = 0.0, 0.0 "
   ]
  },
  {
   "cell_type": "code",
   "execution_count": 3,
   "metadata": {
    "collapsed": true
   },
   "outputs": [],
   "source": [
    "def get_velocity_doublet(strength, xd, yd, X, Y):\n",
    "    u = - strength/(2*math.pi)*((X-xd)**2-(Y-yd)**2)/((X-xd)**2+(Y-yd)**2)**2\n",
    "    v = - strength/(2*math.pi)*2*(X-xd)*(Y-yd)/((X-xd)**2+(Y-yd)**2)**2\n",
    "    \n",
    "    return u, v\n",
    "\n",
    "def get_stream_function_doublet(strength, xd, yd, X, Y):\n",
    "    psi = - strength/(2*math.pi)*(Y-yd)/((X-xd)**2+(Y-yd)**2)\n",
    "    \n",
    "    return psi"
   ]
  },
  {
   "cell_type": "code",
   "execution_count": 4,
   "metadata": {
    "collapsed": false
   },
   "outputs": [
    {
     "ename": "NameError",
     "evalue": "name 'kappa' is not defined",
     "output_type": "error",
     "traceback": [
      "\u001b[0;31m---------------------------------------------------------------------------\u001b[0m",
      "\u001b[0;31mNameError\u001b[0m                                 Traceback (most recent call last)",
      "\u001b[0;32m<ipython-input-4-aa5111570713>\u001b[0m in \u001b[0;36m<module>\u001b[0;34m()\u001b[0m\n\u001b[0;32m----> 1\u001b[0;31m \u001b[0mu_doublet\u001b[0m\u001b[0;34m,\u001b[0m \u001b[0mv_doublet\u001b[0m \u001b[0;34m=\u001b[0m \u001b[0mget_velocity_doublet\u001b[0m\u001b[0;34m(\u001b[0m\u001b[0mkappa\u001b[0m\u001b[0;34m,\u001b[0m \u001b[0mx_doublet\u001b[0m\u001b[0;34m,\u001b[0m \u001b[0my_doublet\u001b[0m\u001b[0;34m,\u001b[0m \u001b[0mX\u001b[0m\u001b[0;34m,\u001b[0m \u001b[0mY\u001b[0m\u001b[0;34m)\u001b[0m\u001b[0;34m\u001b[0m\u001b[0m\n\u001b[0m\u001b[1;32m      2\u001b[0m \u001b[0;34m\u001b[0m\u001b[0m\n\u001b[1;32m      3\u001b[0m \u001b[0mpsi_doublet\u001b[0m \u001b[0;34m=\u001b[0m \u001b[0mget_stream_function_doublet\u001b[0m\u001b[0;34m(\u001b[0m\u001b[0mkappa\u001b[0m\u001b[0;34m,\u001b[0m \u001b[0mx_doublet\u001b[0m\u001b[0;34m,\u001b[0m \u001b[0my_doublet\u001b[0m\u001b[0;34m,\u001b[0m \u001b[0mX\u001b[0m\u001b[0;34m,\u001b[0m \u001b[0mY\u001b[0m\u001b[0;34m)\u001b[0m\u001b[0;34m\u001b[0m\u001b[0m\n",
      "\u001b[0;31mNameError\u001b[0m: name 'kappa' is not defined"
     ]
    }
   ],
   "source": [
    "u_doublet, v_doublet = get_velocity_doublet(kappa, x_doublet, y_doublet, X, Y)\n",
    "\n",
    "psi_doublet = get_stream_function_doublet(kappa, x_doublet, y_doublet, X, Y)"
   ]
  },
  {
   "cell_type": "code",
   "execution_count": null,
   "metadata": {
    "collapsed": true
   },
   "outputs": [],
   "source": []
  }
 ],
 "metadata": {
  "anaconda-cloud": {},
  "kernelspec": {
   "display_name": "Python [default]",
   "language": "python",
   "name": "python3"
  },
  "language_info": {
   "codemirror_mode": {
    "name": "ipython",
    "version": 3
   },
   "file_extension": ".py",
   "mimetype": "text/x-python",
   "name": "python",
   "nbconvert_exporter": "python",
   "pygments_lexer": "ipython3",
   "version": "3.5.2"
  }
 },
 "nbformat": 4,
 "nbformat_minor": 1
}
