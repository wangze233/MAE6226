{
 "cells": [
  {
   "cell_type": "code",
   "execution_count": 1,
   "metadata": {
    "collapsed": true
   },
   "outputs": [],
   "source": [
    "import numpy\n",
    "import math\n",
    "from matplotlib import pyplot\n",
    "% matplotlib inline"
   ]
  },
  {
   "cell_type": "code",
   "execution_count": 12,
   "metadata": {
    "collapsed": false
   },
   "outputs": [],
   "source": [
    "N=51\n",
    "x_start,x_end=-1,2\n",
    "y_start,y_end=-0.5,0.5\n",
    "x = numpy.linspace(x_start,x_end,N)\n",
    "y = numpy.linspace(y_start,y_end,N)\n",
    "X,Y=numpy.meshgrid(x,y)"
   ]
  },
  {
   "cell_type": "code",
   "execution_count": 14,
   "metadata": {
    "collapsed": false
   },
   "outputs": [],
   "source": [
    "x_source=numpy.loadtxt(\"AeroPython/lessons/resources/NACA0012_x.txt\")\n",
    "y_source=numpy.loadtxt(\"AeroPython/lessons/resources/NACA0012_y.txt\")\n",
    "sigma=numpy.loadtxt(\"AeroPython/lessons/resources/NACA0012_sigma.txt\")\n",
    "X_s,Y_s=numpy.meshgrid(x_source,y_source)"
   ]
  },
  {
   "cell_type": "code",
   "execution_count": null,
   "metadata": {
    "collapsed": true
   },
   "outputs": [],
   "source": []
  }
 ],
 "metadata": {
  "anaconda-cloud": {},
  "kernelspec": {
   "display_name": "Python [default]",
   "language": "python",
   "name": "python3"
  },
  "language_info": {
   "codemirror_mode": {
    "name": "ipython",
    "version": 3
   },
   "file_extension": ".py",
   "mimetype": "text/x-python",
   "name": "python",
   "nbconvert_exporter": "python",
   "pygments_lexer": "ipython3",
   "version": "3.5.2"
  }
 },
 "nbformat": 4,
 "nbformat_minor": 1
}
