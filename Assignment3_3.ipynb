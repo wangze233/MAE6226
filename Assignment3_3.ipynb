{
 "cells": [
  {
   "cell_type": "code",
   "execution_count": 1,
   "metadata": {
    "collapsed": true
   },
   "outputs": [],
   "source": [
    "import os\n",
    "import numpy\n",
    "from scipy import integrate, linalg\n",
    "from matplotlib import pyplot\n",
    "%matplotlib inline"
   ]
  },
  {
   "cell_type": "code",
   "execution_count": 2,
   "metadata": {
    "collapsed": false
   },
   "outputs": [],
   "source": [
    "class Panel:\n",
    "    def __init__(self, xa, ya, xb, yb):\n",
    "        self.xa, self.ya = xa, ya # panel starting-point\n",
    "        self.xb, self.yb = xb, yb # panel ending-point\n",
    "        self.xc, self.yc = (xa+xb)/2, (ya+yb)/2         # panel center\n",
    "        self.length = numpy.sqrt((xb-xa)**2+(yb-ya)**2) # panel length\n",
    "        # orientation of panel (angle between x-axis and panel's normal)\n",
    "        if xb-xa <= 0.0:\n",
    "            self.beta = numpy.arccos((yb-ya)/self.length)\n",
    "        elif xb-xa > 0.0:\n",
    "            self.beta = numpy.pi + numpy.arccos(-(yb-ya)/self.length)\n",
    "        # panel location\n",
    "        if self.beta <= numpy.pi:\n",
    "            self.loc = 'upper' # upper surface\n",
    "        else:\n",
    "            self.loc = 'lower' # lower surface\n",
    "        self.sigma = 0.0 # source strength\n",
    "        self.vt = 0.0    # tangential velocity\n",
    "        self.cp = 0.0    # pressure coefficient\n",
    "        \n",
    "        \n",
    "def define_panels(x, y, N):\n",
    "    # create panels\n",
    "    panels = numpy.empty(N, dtype=object)\n",
    "    for i in range(N):\n",
    "        panels[i] = Panel(x[i], y[i], x[i+1], y[i+1])\n",
    "    return panels\n",
    "\n",
    "\n",
    "class Freestream:\n",
    "    def __init__(self, u_inf, alpha):\n",
    "        self.u_inf = u_inf\n",
    "        self.alpha = alpha*numpy.pi/180.0 # degrees to radians\n",
    "        \n",
    "        \n",
    "def integral(x, y, panel, dxdk, dydk):\n",
    "    def integrand(s):\n",
    "        return ( ((x - (panel.xa - numpy.sin(panel.beta)*s))*dxdk\n",
    "                  +(y - (panel.ya + numpy.cos(panel.beta)*s))*dydk)\n",
    "                / ((x - (panel.xa - numpy.sin(panel.beta)*s))**2\n",
    "                   +(y - (panel.ya + numpy.cos(panel.beta)*s))**2) )\n",
    "    return integrate.quad(integrand, 0.0, panel.length)[0]\n",
    "\n",
    "\n",
    "def source_contribution_normal(panels):\n",
    "    A = numpy.empty((panels.size, panels.size), dtype=float)\n",
    "    # source contribution on a panel from itself\n",
    "    numpy.fill_diagonal(A, 0.5)\n",
    "    # source contribution on a panel from others\n",
    "    for i, panel_i in enumerate(panels):\n",
    "        for j, panel_j in enumerate(panels):\n",
    "            if i != j:\n",
    "                A[i, j] = 0.5/numpy.pi*integral(panel_i.xc, panel_i.yc, panel_j,numpy.cos(panel_i.beta),numpy.sin(panel_i.beta))\n",
    "    return A\n",
    "\n",
    "\n",
    "def vortex_contribution_normal(panels):\n",
    "    A = numpy.empty((panels.size, panels.size), dtype=float)\n",
    "    # vortex contribution on a panel from itself\n",
    "    numpy.fill_diagonal(A, 0.0)\n",
    "    # vortex contribution on a panel from others\n",
    "    for i, panel_i in enumerate(panels):\n",
    "        for j, panel_j in enumerate(panels):\n",
    "            if i != j:\n",
    "                A[i, j] = -0.5/numpy.pi*integral(panel_i.xc, panel_i.yc, \n",
    "                                                 panel_j,\n",
    "                                                 numpy.sin(panel_i.beta),\n",
    "                                                 -numpy.cos(panel_i.beta))\n",
    "    return A\n",
    "\n",
    "\n",
    "def kutta_condition(A_source, B_vortex):\n",
    "    b = numpy.empty([2,A_source.shape[1]+2],dtype=float)\n",
    "    b[0,:-2] = B_vortex[0, :] + B_vortex[N-1, :]\n",
    "    b[1,:-2] = B_vortex[N, :] + B_vortex[2*N-1, :]\n",
    "    \n",
    "    b[-2,-2]=- numpy.sum(A_source[0,:N] + A_source[N-1,:N])\n",
    "    b[-2,-1]=- numpy.sum(A_source[0,N:] + A_source[N-1,N:])\n",
    "    b[-1,-2]=- numpy.sum(A_source[N,:N] + A_source[2*N-1,:N])\n",
    "    b[-1,-1]=- numpy.sum(A_source[N,N:] + A_source[2*N-1,N:])\n",
    "    \n",
    "    return b\n",
    "\n",
    "\n",
    "def build_singularity_matrix(A_source, B_vortex):\n",
    "    A = numpy.empty((A_source.shape[0]+2, A_source.shape[0]+2), dtype=float)\n",
    "    # source contribution matrix\n",
    "    A[:-2, :-2] = A_source\n",
    "    # vortex contribution array\n",
    "    A[:-2, -2] = numpy.sum(B_vortex[:,:N], axis=1)    \n",
    "    A[:-2, -1] = numpy.sum(B_vortex[:,N:], axis=1)\n",
    "    # Kutta condition array\n",
    "    A[-2:, :] = kutta_condition(A_source, B_vortex)\n",
    "    return A\n",
    "\n",
    "\n",
    "def build_freestream_rhs(panels, freestream):\n",
    "    b = numpy.empty(panels.size+2,dtype=float)\n",
    "    # freestream contribution on each panel\n",
    "    for i, panel in enumerate(panels):\n",
    "        b[i] = -freestream.u_inf * numpy.cos(freestream.alpha - panel.beta)\n",
    "    # freestream contribution on the Kutta condition\n",
    "    b[-2] = -freestream.u_inf*( numpy.sin(freestream.alpha-panels[0].beta)\n",
    "                               +numpy.sin(freestream.alpha-panels[N-1].beta) )\n",
    "    b[-1] = -freestream.u_inf*( numpy.sin(freestream.alpha-panels[N].beta)\n",
    "                               +numpy.sin(freestream.alpha-panels[2*N-1].beta) )\n",
    "    return b\n",
    "\n",
    "\n",
    "def compute_pressure_coefficient(panels, freestream):\n",
    "    for panel in panels:\n",
    "        panel.cp = 1.0 - (panel.vt/freestream.u_inf)**2\n",
    "\n",
    "        \n",
    "def compute_tangential_velocity(panels, freestream, gamma_m,gamma_f, A_source, B_vortex):\n",
    "    A = numpy.empty((panels.size, panels.size+2), dtype=float)\n",
    "    A[:, :-2] = B_vortex\n",
    "    A[:, -2] = -numpy.sum(A_source[:,:N], axis=1)\n",
    "    A[:, -1] = -numpy.sum(A_source[:,N:], axis=1)\n",
    "    b = freestream.u_inf*numpy.sin([freestream.alpha-panel.beta \n",
    "                                    for panel in panels])\n",
    "    strengths = numpy.append([panel.sigma for panel in panels],gamma_m)\n",
    "    strengths = numpy.append(strengths,gamma_f)\n",
    "    tangential_velocities = numpy.dot(A, strengths) + b\n",
    "    for i, panel in enumerate(panels):\n",
    "        panel.vt = tangential_velocities[i]\n",
    "        \n",
    "\n",
    "def compute_pressure_coefficient(panels, freestream):\n",
    "    for panel in panels:\n",
    "        panel.cp = 1.0 - (panel.vt/freestream.u_inf)**2\n",
    "        \n"
   ]
  },
  {
   "cell_type": "code",
   "execution_count": 109,
   "metadata": {
    "collapsed": false
   },
   "outputs": [],
   "source": [
    "def rotation(point,theta,x,y):\n",
    "    theta1=theta/180*numpy.pi\n",
    "    x_1,y_1=0,0\n",
    "    x_1=x-point[0]*numpy.ones_like(x)\n",
    "    y_1=y-point[1]*numpy.ones_like(y)\n",
    "    x_r=x_1*numpy.cos(theta1)+y_1*numpy.sin(theta1)+point[0]*numpy.ones_like(x)\n",
    "    y_r=x_1*(-1)*numpy.sin(theta1)+y_1*numpy.cos(theta1)+point[1]*numpy.ones_like(y)\n",
    "    return x_r,y_r"
   ]
  },
  {
   "cell_type": "code",
   "execution_count": 4,
   "metadata": {
    "collapsed": false
   },
   "outputs": [],
   "source": [
    "x_m, y_m=numpy.loadtxt(\"resources/NACA23012_MainFoil.csv\",dtype=float,delimiter=',',unpack=True)\n",
    "x_f,y_f=numpy.loadtxt(\"resources/NACA23012_FlapFoil.csv\",dtype=float,delimiter=',',unpack=True)\n",
    "theta=20\n",
    "point=[1.03,-0.054]\n",
    "x_f,y_f=rotation(point,theta,x_f,y_f)"
   ]
  },
  {
   "cell_type": "code",
   "execution_count": 5,
   "metadata": {
    "collapsed": false
   },
   "outputs": [
    {
     "data": {
      "image/png": "[encoded data removed]",
      "text/plain": [
       "<matplotlib.figure.Figure at 0x7efe6ef98748>"
      ]
     },
     "metadata": {},
     "output_type": "display_data"
    }
   ],
   "source": [
    "N,u_inf,alpha=len(x_m)-1,1,0\n",
    "panels_m = define_panels(x_m, y_m, N)\n",
    "panels_f = define_panels(x_f, y_f, N)\n",
    "\n",
    "# plot discretized geometry\n",
    "width = 10\n",
    "pyplot.figure(figsize=(width, width))\n",
    "pyplot.grid()\n",
    "pyplot.xlabel('x', fontsize=16)\n",
    "pyplot.ylabel('y', fontsize=16)\n",
    "pyplot.plot(x_m, y_m,x_f,y_f,color='k', linestyle='-', linewidth=2)\n",
    "pyplot.scatter([panel.xa for panel in panels_m],[panel.ya for panel in panels_m],color='#CD2305')\n",
    "pyplot.scatter([panel.xa for panel in panels_f],[panel.ya for panel in panels_f],color='#CD2305')\n",
    "pyplot.axis('scaled', adjustable='box')\n",
    "pyplot.xlim(-0.1, 1.2)\n",
    "pyplot.ylim(-0.3, 0.3);"
   ]
  },
  {
   "cell_type": "code",
   "execution_count": 6,
   "metadata": {
    "collapsed": true
   },
   "outputs": [],
   "source": [
    "panels=numpy.empty(N*2, dtype=object)\n",
    "for i in range(N*2):\n",
    "    if i<N:\n",
    "        panels[i]=panels_m[i]\n",
    "    elif i>=N:\n",
    "        panels[i]=panels_f[i-N]\n",
    "\n",
    "A_source=source_contribution_normal(panels)\n",
    "B_vortex= vortex_contribution_normal(panels)\n",
    "A = build_singularity_matrix(A_source, B_vortex)"
   ]
  },
  {
   "cell_type": "code",
   "execution_count": 7,
   "metadata": {
    "collapsed": false
   },
   "outputs": [],
   "source": [
    "alpha_1,alpha_2,alpha=-14,14,0\n",
    "erro=1\n",
    "while erro>0.0001:\n",
    "    alpha=(alpha_1+alpha_2)/2\n",
    "    Lift,Lift_1=0,0\n",
    "    freestream = Freestream(u_inf,alpha_1)\n",
    "    b = build_freestream_rhs(panels,freestream)\n",
    "    strengths = numpy.linalg.solve(A, b)\n",
    "    for i , panel in enumerate(panels):\n",
    "        panel.sigma = strengths[i]\n",
    "    gamma_m= strengths[-2]\n",
    "    gamma_f = strengths[-1]\n",
    "    compute_tangential_velocity(panels, freestream, gamma_m,gamma_f, A_source, B_vortex)\n",
    "    compute_pressure_coefficient(panels, freestream)\n",
    "    for panel in panels:\n",
    "        Lift_1 -=panel.cp*numpy.sin(panel.beta)*panel.length\n",
    "\n",
    "    #lift_assume\n",
    "    freestream = Freestream(u_inf,alpha)\n",
    "    b = build_freestream_rhs(panels,freestream)\n",
    "    strengths = numpy.linalg.solve(A, b)\n",
    "    for i , panel in enumerate(panels):\n",
    "        panel.sigma = strengths[i]\n",
    "    gamma_m = strengths[-2]\n",
    "    gamma_f = strengths[-1]\n",
    "    compute_tangential_velocity(panels, freestream, gamma_m,gamma_f, A_source, B_vortex)\n",
    "    compute_pressure_coefficient(panels, freestream)\n",
    "    for panel in panels:\n",
    "        Lift -=panel.cp*numpy.sin(panel.beta)*panel.length\n",
    "    \n",
    "    if Lift_1*Lift<0:\n",
    "        alpha_2=alpha\n",
    "    elif Lift_1*Lift>0:\n",
    "        alpha_1=alpha\n",
    "    erro=abs(Lift)\n",
    "    "
   ]
  },
  {
   "cell_type": "code",
   "execution_count": 8,
   "metadata": {
    "collapsed": false
   },
   "outputs": [
    {
     "data": {
      "text/plain": [
       "-10.963134765625"
      ]
     },
     "execution_count": 8,
     "metadata": {},
     "output_type": "execute_result"
    }
   ],
   "source": [
    "alpha"
   ]
  },
  {
   "cell_type": "code",
   "execution_count": 143,
   "metadata": {
    "collapsed": false
   },
   "outputs": [],
   "source": [
    "#Q2\n",
    "x_m, y_m=numpy.loadtxt(\"resources/NACA23012_MainFoil.csv\",dtype=float,delimiter=',',unpack=True)\n",
    "x_f,y_f=numpy.loadtxt(\"resources/NACA23012_FlapFoil.csv\",dtype=float,delimiter=',',unpack=True)\n",
    "panels_m = define_panels(x_m, y_m, N)\n",
    "point=[1.03,-0.054]\n",
    "N,u_inf,alpha=len(x_m)-1,1,0\n",
    "theta1,theta2,theta=-5,0,0\n",
    "erro=1\n",
    "freestream = Freestream(u_inf,alpha)"
   ]
  },
  {
   "cell_type": "code",
   "execution_count": 144,
   "metadata": {
    "collapsed": false
   },
   "outputs": [],
   "source": [
    "while erro>0.001:\n",
    "    lift1,lift=0,0\n",
    "    theta=(theta1+theta2)/2\n",
    "    x_f_n,y_f_n=rotation(point,theta1,x_f,y_f)\n",
    "    panels_f = define_panels(x_f_n, y_f_n, N)\n",
    "    panels=numpy.empty(N*2, dtype=object)\n",
    "    for i in range(N*2):\n",
    "        if i<N:\n",
    "            panels[i]=panels_m[i]\n",
    "        elif i>=N:\n",
    "            panels[i]=panels_f[i-N]\n",
    "    A_source=source_contribution_normal(panels)\n",
    "    B_vortex= vortex_contribution_normal(panels)\n",
    "    A = build_singularity_matrix(A_source, B_vortex)\n",
    "    b = build_freestream_rhs(panels,freestream)\n",
    "    strengths = numpy.linalg.solve(A, b)\n",
    "    for i , panel in enumerate(panels):\n",
    "        panel.sigma = strengths[i]\n",
    "    gamma_m = strengths[-2]\n",
    "    gamma_f = strengths[-1]\n",
    "    compute_tangential_velocity(panels, freestream, gamma_m,gamma_f, A_source, B_vortex)\n",
    "    compute_pressure_coefficient(panels, freestream)\n",
    "    for panel in panels:\n",
    "        lift1 -=panel.cp*numpy.sin(panel.beta)*panel.length\n",
    "\n",
    "    x_f_n,y_f_n=rotation(point,theta,x_f,y_f)\n",
    "    panels_f = define_panels(x_f_n, y_f_n, N)\n",
    "    panels=numpy.empty(N*2, dtype=object)\n",
    "    for i in range(N*2):\n",
    "        if i<N:\n",
    "            panels[i]=panels_m[i]\n",
    "        elif i>=N:\n",
    "            panels[i]=panels_f[i-N]\n",
    "    A_source=source_contribution_normal(panels)\n",
    "    B_vortex= vortex_contribution_normal(panels)\n",
    "    A = build_singularity_matrix(A_source, B_vortex)\n",
    "    b = build_freestream_rhs(panels,freestream)\n",
    "    strengths = numpy.linalg.solve(A, b)\n",
    "    for i , panel in enumerate(panels):\n",
    "        panel.sigma = strengths[i]\n",
    "    gamma_m = strengths[-2]\n",
    "    gamma_f = strengths[-1]\n",
    "    compute_tangential_velocity(panels, freestream, gamma_m,gamma_f, A_source, B_vortex)\n",
    "    compute_pressure_coefficient(panels, freestream)\n",
    "    for panel in panels:\n",
    "        lift -=panel.cp*numpy.sin(panel.beta)*panel.length\n",
    "        \n",
    "    if lift1*lift<0:\n",
    "        theta2=theta\n",
    "    elif lift1*lift>0:\n",
    "        theta1=theta\n",
    "    erro=abs(lift)"
   ]
  },
  {
   "cell_type": "code",
   "execution_count": 145,
   "metadata": {
    "collapsed": false
   },
   "outputs": [
    {
     "data": {
      "text/plain": [
       "-4.51171875"
      ]
     },
     "execution_count": 145,
     "metadata": {},
     "output_type": "execute_result"
    }
   ],
   "source": [
    "theta"
   ]
  },
  {
   "cell_type": "code",
   "execution_count": null,
   "metadata": {
    "collapsed": true
   },
   "outputs": [],
   "source": []
  },
  {
   "cell_type": "code",
   "execution_count": 117,
   "metadata": {
    "collapsed": false
   },
   "outputs": [],
   "source": [
    "#Q3\n",
    "x_m, y_m=numpy.loadtxt(\"resources/NACA23012_MainFoil.csv\",dtype=float,delimiter=',',unpack=True)\n",
    "x_f,y_f=numpy.loadtxt(\"resources/NACA23012_FlapFoil.csv\",dtype=float,delimiter=',',unpack=True)\n",
    "x_f_n,y_f_n=0,0\n",
    "point=[1.03,-0.054]\n",
    "Lift,Drag=0.,0.\n",
    "N,u_inf,alpha=len(x_m)-1,1.,4.\n",
    "theta_all=numpy.array([0.,5.,10.,15.])\n",
    "lift,drag=numpy.zeros_like(theta_all),numpy.zeros_like(theta_all)\n",
    "freestream = Freestream(u_inf,alpha)\n",
    "for k in range(4):\n",
    "    lift[k]=0\n",
    "    Lift,Drag=0.,0.\n",
    "    theta=theta_all[k]\n",
    "    x_f_n,y_f_n=rotation(point,theta,x_f,y_f)\n",
    "    panels_m = define_panels(x_m, y_m, N)\n",
    "    panels_f = define_panels(x_f_n, y_f_n, N)\n",
    "    panels=numpy.empty(N*2, dtype=object)\n",
    "    for i in range(N*2):\n",
    "        if i<N:\n",
    "            panels[i]=panels_m[i]\n",
    "        elif i>=N:\n",
    "            panels[i]=panels_f[i-N]\n",
    "    A_source=source_contribution_normal(panels)\n",
    "    B_vortex= vortex_contribution_normal(panels)\n",
    "    A = build_singularity_matrix(A_source, B_vortex)\n",
    "    b = build_freestream_rhs(panels,freestream)\n",
    "    strengths = numpy.linalg.solve(A, b)\n",
    "    for i , panel in enumerate(panels):\n",
    "        panel.sigma = strengths[i]\n",
    "    gamma_m = strengths[-2]\n",
    "    gamma_f = strengths[-1]\n",
    "    compute_tangential_velocity(panels, freestream, gamma_m,gamma_f, A_source, B_vortex)\n",
    "    compute_pressure_coefficient(panels, freestream)\n",
    "    for panel in panels:\n",
    "        Lift -=panel.cp*numpy.sin(panel.beta)*panel.length\n",
    "        Drag +=panel.cp*numpy.cos(panel.beta)*panel.length\n",
    "    lift[k]=Lift\n"
   ]
  },
  {
   "cell_type": "code",
   "execution_count": 118,
   "metadata": {
    "collapsed": false
   },
   "outputs": [
    {
     "data": {
      "text/plain": [
       "array([ 0.82435976,  1.12804895,  1.43522694,  1.74566936])"
      ]
     },
     "execution_count": 118,
     "metadata": {},
     "output_type": "execute_result"
    }
   ],
   "source": [
    "lift"
   ]
  },
  {
   "cell_type": "code",
   "execution_count": 124,
   "metadata": {
    "collapsed": false
   },
   "outputs": [
    {
     "data": {
      "text/plain": [
       "array([ 14.51411364,  24.21240902,  31.28091033])"
      ]
     },
     "execution_count": 124,
     "metadata": {},
     "output_type": "execute_result"
    }
   ],
   "source": [
    "loss=numpy.zeros(3)\n",
    "for i in range (3):\n",
    "    loss[i] = 100 * (1 - 1/numpy.sqrt(lift[i+1] / lift[0]))\n",
    "loss"
   ]
  },
  {
   "cell_type": "code",
   "execution_count": null,
   "metadata": {
    "collapsed": true
   },
   "outputs": [],
   "source": []
  },
  {
   "cell_type": "code",
   "execution_count": null,
   "metadata": {
    "collapsed": true
   },
   "outputs": [],
   "source": []
  }
 ],
 "metadata": {
  "anaconda-cloud": {},
  "kernelspec": {
   "display_name": "Python [conda root]",
   "language": "python",
   "name": "conda-root-py"
  },
  "language_info": {
   "codemirror_mode": {
    "name": "ipython",
    "version": 3
   },
   "file_extension": ".py",
   "mimetype": "text/x-python",
   "name": "python",
   "nbconvert_exporter": "python",
   "pygments_lexer": "ipython3",
   "version": "3.5.2"
  }
 },
 "nbformat": 4,
 "nbformat_minor": 1
}
