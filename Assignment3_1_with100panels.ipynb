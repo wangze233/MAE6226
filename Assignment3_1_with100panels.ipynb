{
 "cells": [
  {
   "cell_type": "code",
   "execution_count": 5,
   "metadata": {
    "collapsed": true
   },
   "outputs": [],
   "source": [
    "import os\n",
    "import numpy\n",
    "from scipy import integrate, linalg\n",
    "from matplotlib import pyplot\n",
    "%matplotlib inline"
   ]
  },
  {
   "cell_type": "code",
   "execution_count": 6,
   "metadata": {
    "collapsed": false
   },
   "outputs": [],
   "source": [
    "class Panel:\n",
    "    def __init__(self, xa, ya, xb, yb):\n",
    "        self.xa, self.ya = xa, ya # panel starting-point\n",
    "        self.xb, self.yb = xb, yb # panel ending-point\n",
    "        self.xc, self.yc = (xa+xb)/2, (ya+yb)/2         # panel center\n",
    "        self.length = numpy.sqrt((xb-xa)**2+(yb-ya)**2) # panel length\n",
    "        # orientation of panel (angle between x-axis and panel's normal)\n",
    "        if xb-xa <= 0.0:\n",
    "            self.beta = numpy.arccos((yb-ya)/self.length)\n",
    "        elif xb-xa > 0.0:\n",
    "            self.beta = numpy.pi + numpy.arccos(-(yb-ya)/self.length)\n",
    "        # panel location\n",
    "        if self.beta <= numpy.pi:\n",
    "            self.loc = 'upper' # upper surface\n",
    "        else:\n",
    "            self.loc = 'lower' # lower surface\n",
    "        self.sigma = 0.0 # source strength\n",
    "        self.vt = 0.0    # tangential velocity\n",
    "        self.cp = 0.0    # pressure coefficient\n",
    "        \n",
    "        \n",
    "def define_panels(x, y, N):\n",
    "    # create panels\n",
    "    panels = numpy.empty(N, dtype=object)\n",
    "    for i in range(N):\n",
    "        panels[i] = Panel(x[i], y[i], x[i+1], y[i+1])\n",
    "    return panels\n",
    "\n",
    "\n",
    "class Freestream:\n",
    "    def __init__(self, u_inf, alpha):\n",
    "        self.u_inf = u_inf\n",
    "        self.alpha = alpha*numpy.pi/180.0 # degrees to radians\n",
    "        \n",
    "        \n",
    "def integral(x, y, panel, dxdk, dydk):\n",
    "    def integrand(s):\n",
    "        return ( ((x - (panel.xa - numpy.sin(panel.beta)*s))*dxdk\n",
    "                  +(y - (panel.ya + numpy.cos(panel.beta)*s))*dydk)\n",
    "                / ((x - (panel.xa - numpy.sin(panel.beta)*s))**2\n",
    "                   +(y - (panel.ya + numpy.cos(panel.beta)*s))**2) )\n",
    "    return integrate.quad(integrand, 0.0, panel.length)[0]\n",
    "\n",
    "\n",
    "def source_contribution_normal(panels):\n",
    "    A = numpy.empty((panels.size, panels.size), dtype=float)\n",
    "    # source contribution on a panel from itself\n",
    "    numpy.fill_diagonal(A, 0.5)\n",
    "    # source contribution on a panel from others\n",
    "    for i, panel_i in enumerate(panels):\n",
    "        for j, panel_j in enumerate(panels):\n",
    "            if i != j:\n",
    "                A[i, j] = 0.5/numpy.pi*integral(panel_i.xc, panel_i.yc, panel_j,numpy.cos(panel_i.beta),numpy.sin(panel_i.beta))\n",
    "    return A\n",
    "\n",
    "\n",
    "def vortex_contribution_normal(panels):\n",
    "    A = numpy.empty((panels.size, panels.size), dtype=float)\n",
    "    # vortex contribution on a panel from itself\n",
    "    numpy.fill_diagonal(A, 0.0)\n",
    "    # vortex contribution on a panel from others\n",
    "    for i, panel_i in enumerate(panels):\n",
    "        for j, panel_j in enumerate(panels):\n",
    "            if i != j:\n",
    "                A[i, j] = -0.5/numpy.pi*integral(panel_i.xc, panel_i.yc, \n",
    "                                                 panel_j,\n",
    "                                                 numpy.sin(panel_i.beta),\n",
    "                                                 -numpy.cos(panel_i.beta))\n",
    "    return A\n",
    "\n",
    "\n",
    "def kutta_condition(A_source, B_vortex):\n",
    "    b = numpy.empty([2,A_source.shape[1]+2],dtype=float)\n",
    "    b[0,:-2] = B_vortex[0, :] + B_vortex[N-1, :]\n",
    "    b[1,:-2] = B_vortex[N, :] + B_vortex[2*N-1, :]\n",
    "    \n",
    "    b[-2,-2]=- numpy.sum(A_source[0,:N] + A_source[N-1,:N])\n",
    "    b[-2,-1]=- numpy.sum(A_source[0,N:] + A_source[N-1,N:])\n",
    "    b[-1,-2]=- numpy.sum(A_source[N,:N] + A_source[2*N-1,:N])\n",
    "    b[-1,-1]=- numpy.sum(A_source[N,N:] + A_source[2*N-1,N:])\n",
    "    \n",
    "    return b\n",
    "\n",
    "\n",
    "def build_singularity_matrix(A_source, B_vortex):\n",
    "    A = numpy.empty((A_source.shape[0]+2, A_source.shape[0]+2), dtype=float)\n",
    "    # source contribution matrix\n",
    "    A[:-2, :-2] = A_source\n",
    "    # vortex contribution array\n",
    "    A[:-2, -2] = numpy.sum(B_vortex[:,:N], axis=1)    \n",
    "    A[:-2, -1] = numpy.sum(B_vortex[:,N:], axis=1)\n",
    "    # Kutta condition array\n",
    "    A[-2:, :] = kutta_condition(A_source, B_vortex)\n",
    "    return A\n",
    "\n",
    "\n",
    "def build_freestream_rhs(panels, freestream):\n",
    "    b = numpy.empty(panels.size+2,dtype=float)\n",
    "    # freestream contribution on each panel\n",
    "    for i, panel in enumerate(panels):\n",
    "        b[i] = -freestream.u_inf * numpy.cos(freestream.alpha - panel.beta)\n",
    "    # freestream contribution on the Kutta condition\n",
    "    b[-2] = -freestream.u_inf*( numpy.sin(freestream.alpha-panels[0].beta)\n",
    "                               +numpy.sin(freestream.alpha-panels[N-1].beta) )\n",
    "    b[-1] = -freestream.u_inf*( numpy.sin(freestream.alpha-panels[N].beta)\n",
    "                               +numpy.sin(freestream.alpha-panels[2*N-1].beta) )\n",
    "    return b\n",
    "\n",
    "\n",
    "def compute_pressure_coefficient(panels, freestream):\n",
    "    for panel in panels:\n",
    "        panel.cp = 1.0 - (panel.vt/freestream.u_inf)**2\n",
    "\n",
    "        \n",
    "def compute_tangential_velocity(panels, freestream, gamma_m,gamma_f, A_source, B_vortex):\n",
    "    A = numpy.empty((panels.size, panels.size+2), dtype=float)\n",
    "    A[:, :-2] = B_vortex\n",
    "    A[:, -2] = -numpy.sum(A_source[:,:N], axis=1)\n",
    "    A[:, -1] = -numpy.sum(A_source[:,N:], axis=1)\n",
    "    b = freestream.u_inf*numpy.sin([freestream.alpha-panel.beta \n",
    "                                    for panel in panels])\n",
    "    strengths = numpy.append([panel.sigma for panel in panels],gamma_m)\n",
    "    strengths = numpy.append(strengths,gamma_f)\n",
    "    tangential_velocities = numpy.dot(A, strengths) + b\n",
    "    for i, panel in enumerate(panels):\n",
    "        panel.vt = tangential_velocities[i]\n",
    "        \n",
    "\n",
    "def compute_pressure_coefficient(panels, freestream):\n",
    "    for panel in panels:\n",
    "        panel.cp = 1.0 - (panel.vt/freestream.u_inf)**2"
   ]
  },
  {
   "cell_type": "code",
   "execution_count": 7,
   "metadata": {
    "collapsed": false
   },
   "outputs": [],
   "source": [
    "x_m, y_m=numpy.loadtxt(\"resources/MainFoil_N=100.csv\",dtype=float,delimiter=',',unpack=True)\n",
    "x_f,y_f=numpy.loadtxt(\"resources/FlapFoil_N=100.csv\",dtype=float,delimiter=',',unpack=True)\n",
    "\n",
    "x=numpy.append(x_m,x_f)\n",
    "y=numpy.append(y_m,y_f)"
   ]
  },
  {
   "cell_type": "code",
   "execution_count": 8,
   "metadata": {
    "collapsed": false
   },
   "outputs": [
    {
     "data": {
      "image/png": "[encoded data removed]",
      "text/plain": [
       "<matplotlib.figure.Figure at 0x7f10a23d1eb8>"
      ]
     },
     "metadata": {},
     "output_type": "display_data"
    }
   ],
   "source": [
    "N,u_inf,alpha=len(x_m)-1,1,0\n",
    "freestream = Freestream(u_inf,alpha)\n",
    "panels_m = define_panels(x_m, y_m, N)\n",
    "panels_f = define_panels(x_f, y_f, N)\n",
    "\n",
    "# plot discretized geometry\n",
    "width = 10\n",
    "pyplot.figure(figsize=(width, width))\n",
    "pyplot.grid()\n",
    "pyplot.xlabel('x', fontsize=16)\n",
    "pyplot.ylabel('y', fontsize=16)\n",
    "pyplot.plot(x_m, y_m,x_f,y_f,color='k', linestyle='-', linewidth=2)\n",
    "pyplot.scatter([panel.xa for panel in panels_m],[panel.ya for panel in panels_m],color='#CD2305')\n",
    "pyplot.scatter([panel.xa for panel in panels_f],[panel.ya for panel in panels_f],color='#CD2305')\n",
    "pyplot.axis('scaled', adjustable='box')\n",
    "pyplot.xlim(-0.1, 1.5)\n",
    "pyplot.ylim(-0.25, 0.1);"
   ]
  },
  {
   "cell_type": "code",
   "execution_count": 9,
   "metadata": {
    "collapsed": false
   },
   "outputs": [],
   "source": [
    "panels=numpy.empty(N*2, dtype=object)\n",
    "for i in range(N*2):\n",
    "    if i<N:\n",
    "        panels[i]=panels_m[i]\n",
    "    elif i>=N:\n",
    "        panels[i]=panels_f[i-N]\n",
    "\n",
    "A_source=source_contribution_normal(panels)\n",
    "B_vortex= vortex_contribution_normal(panels)"
   ]
  },
  {
   "cell_type": "code",
   "execution_count": 10,
   "metadata": {
    "collapsed": false
   },
   "outputs": [],
   "source": [
    "A = build_singularity_matrix(A_source, B_vortex)\n",
    "b = build_freestream_rhs(panels,freestream)\n",
    "strengths = numpy.linalg.solve(A, b)\n",
    "for i , panel in enumerate(panels):\n",
    "    panel.sigma = strengths[i]\n",
    "gamma_m = strengths[-2]\n",
    "gamma_f = strengths[-1]\n",
    "\n",
    "compute_tangential_velocity(panels, freestream, gamma_m,gamma_f, A_source, B_vortex)\n",
    "compute_pressure_coefficient(panels, freestream)"
   ]
  },
  {
   "cell_type": "code",
   "execution_count": 28,
   "metadata": {
    "collapsed": false
   },
   "outputs": [
    {
     "data": {
      "image/png": "[encoded data removed]",
      "text/plain": [
       "<matplotlib.figure.Figure at 0x7f10a2987f28>"
      ]
     },
     "metadata": {},
     "output_type": "display_data"
    }
   ],
   "source": [
    "# plot surface pressure coefficient\n",
    "pyplot.figure(figsize=(8, 8))\n",
    "pyplot.grid()\n",
    "pyplot.xlabel('$x$', fontsize=16)\n",
    "pyplot.ylabel('$C_p$', fontsize=16)\n",
    "pyplot.scatter([panel.xc for panel in panels if panel.loc == 'upper'],\n",
    "            [panel.cp for panel in panels if panel.loc == 'upper'],\n",
    "            label='upper surface',color='r')\n",
    "pyplot.scatter([panel.xc for panel in panels if panel.loc == 'lower'],\n",
    "            [panel.cp for panel in panels if panel.loc == 'lower'],\n",
    "            label= 'lower surface',color='b')\n",
    "pyplot.legend(loc='best', prop={'size':16})\n",
    "pyplot.xlim(-0, 1.5)\n",
    "pyplot.ylim(-11, 1.5)\n",
    "pyplot.gca().invert_yaxis()\n",
    "pyplot.title('Number of panels: {}'.format(panels.size*0.5), fontsize=16);"
   ]
  },
  {
   "cell_type": "code",
   "execution_count": 16,
   "metadata": {
    "collapsed": false
   },
   "outputs": [
    {
     "data": {
      "text/plain": [
       "-0.95570117298077895"
      ]
     },
     "execution_count": 16,
     "metadata": {},
     "output_type": "execute_result"
    }
   ],
   "source": [
    "panels[2].cp"
   ]
  },
  {
   "cell_type": "code",
   "execution_count": 15,
   "metadata": {
    "collapsed": false
   },
   "outputs": [
    {
     "data": {
      "text/plain": [
       "-0.27991839836855581"
      ]
     },
     "execution_count": 15,
     "metadata": {},
     "output_type": "execute_result"
    }
   ],
   "source": [
    "panels[N+9].cp"
   ]
  },
  {
   "cell_type": "code",
   "execution_count": 36,
   "metadata": {
    "collapsed": false
   },
   "outputs": [],
   "source": [
    "Lift_1,Drag_1=0,0\n",
    "for panel in panels:\n",
    "    Lift_1 -=panel.cp*numpy.sin(panel.beta)*panel.length\n",
    "    Drag_1 +=panel.cp*numpy.cos(panel.beta)*panel.length"
   ]
  },
  {
   "cell_type": "code",
   "execution_count": 37,
   "metadata": {
    "collapsed": false
   },
   "outputs": [
    {
     "data": {
      "text/plain": [
       "3.6977144768607491"
      ]
     },
     "execution_count": 37,
     "metadata": {},
     "output_type": "execute_result"
    }
   ],
   "source": [
    "Lift_1"
   ]
  },
  {
   "cell_type": "code",
   "execution_count": 39,
   "metadata": {
    "collapsed": false
   },
   "outputs": [
    {
     "data": {
      "text/plain": [
       "0.010791403245870792"
      ]
     },
     "execution_count": 39,
     "metadata": {},
     "output_type": "execute_result"
    }
   ],
   "source": [
    "Drag_1"
   ]
  },
  {
   "cell_type": "code",
   "execution_count": 40,
   "metadata": {
    "collapsed": false
   },
   "outputs": [
    {
     "name": "stdout",
     "output_type": "stream",
     "text": [
      "absolute error of 100 panels is  0.0408855231393\n"
     ]
    }
   ],
   "source": [
    "lift_theoretical=3.7386\n",
    "absolute_error_1=abs(Lift_1-lift_theoretical)\n",
    "print('absolute error of 100 panels is ',absolute_error_1)"
   ]
  },
  {
   "cell_type": "code",
   "execution_count": null,
   "metadata": {
    "collapsed": true
   },
   "outputs": [],
   "source": []
  }
 ],
 "metadata": {
  "anaconda-cloud": {},
  "kernelspec": {
   "display_name": "Python [conda root]",
   "language": "python",
   "name": "conda-root-py"
  },
  "language_info": {
   "codemirror_mode": {
    "name": "ipython",
    "version": 3
   },
   "file_extension": ".py",
   "mimetype": "text/x-python",
   "name": "python",
   "nbconvert_exporter": "python",
   "pygments_lexer": "ipython3",
   "version": "3.5.2"
  }
 },
 "nbformat": 4,
 "nbformat_minor": 1
}
